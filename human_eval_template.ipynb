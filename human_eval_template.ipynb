{
 "cells": [
  {
   "cell_type": "code",
   "execution_count": null,
   "id": "e33087eb",
   "metadata": {},
   "outputs": [],
   "source": [
    "%matplotlib inline"
   ]
  },
  {
   "cell_type": "code",
   "execution_count": null,
   "id": "df837fc6",
   "metadata": {},
   "outputs": [],
   "source": [
    "print(\"This is what you asked:\")\n",
    "print(query)"
   ]
  },
  {
   "cell_type": "code",
   "execution_count": null,
   "id": "828bd471",
   "metadata": {},
   "outputs": [],
   "source": [
    "print(f\"This is the output code for computation: {label}\")\n",
    "print(code_response)"
   ]
  },
  {
   "cell_type": "code",
   "execution_count": null,
   "id": "890fa9e2",
   "metadata": {},
   "outputs": [],
   "source": [
    "if code_response is not None:\n",
    "    exec(code_response)"
   ]
  },
  {
   "cell_type": "code",
   "execution_count": null,
   "id": "a6eda20b",
   "metadata": {},
   "outputs": [],
   "source": [
    "from IPython.display import Markdown as md\n",
    "md(f'Go to <a href=\"https://docs.google.com/forms/d/e/1FAIpQLScgNNwGoI-XsyKxckeVASHNxM3MQp-5hj6kSYVqgzBTMRNJFA/viewform?usp=pp_url&entry.977561167={label}\" target=\"_blank\">Google Form</a>')"
   ]
  },
  {
   "cell_type": "code",
   "execution_count": null,
   "id": "0ab2feca",
   "metadata": {},
   "outputs": [],
   "source": []
  }
 ],
 "metadata": {
  "celltoolbar": "Tags",
  "kernelspec": {
   "display_name": "Python 3",
   "language": "python",
   "name": "python3"
  },
  "language_info": {
   "codemirror_mode": {
    "name": "ipython",
    "version": 3
   },
   "file_extension": ".py",
   "mimetype": "text/x-python",
   "name": "python",
   "nbconvert_exporter": "python",
   "pygments_lexer": "ipython3",
   "version": "3.9.4"
  }
 },
 "nbformat": 4,
 "nbformat_minor": 5
}
