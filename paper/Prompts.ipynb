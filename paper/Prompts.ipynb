{
 "cells": [
  {
   "cell_type": "code",
   "execution_count": null,
   "id": "577961da",
   "metadata": {},
   "outputs": [],
   "source": [
    "import glob\n",
    "import time\n",
    "import pandas as pd\n",
    "import yaml\n",
    "import seaborn as sns\n",
    "import matplotlib.pyplot as plt\n",
    "import matplotlib.font_manager as font_manager\n",
    "import urllib.request\n",
    "import matplotlib as mpl\n",
    "\n",
    "\n",
    "urllib.request.urlretrieve(\n",
    "    \"https://github.com/google/fonts/raw/main/ofl/courierprime/CourierPrime-Regular.ttf\",\n",
    "    \"CourierPrime-Regular.ttf\",\n",
    ")\n",
    "fe = mpl.font_manager.FontEntry(fname=\"CourierPrime-Regular.ttf\", name=\"courierprime\")\n",
    "mpl.font_manager.fontManager.ttflist.append(fe)\n",
    "color_cycle = [\"#444444\", \"#1BBC9B\", \"#a895bb\", \"#F06060\", \"#F3B562\", \"#80cedb\"]\n",
    "mpl.rcParams.update(\n",
    "    {\n",
    "        \"axes.facecolor\": \"#f5f4e9\",\n",
    "        \"grid.color\": \"#AAAAAA\",\n",
    "        \"axes.edgecolor\": \"#333333\",\n",
    "        \"figure.facecolor\": \"#FFFFFFFF\",\n",
    "        \"axes.grid\": False,\n",
    "        \"axes.prop_cycle\": plt.cycler(color=color_cycle),\n",
    "        \"font.family\": fe.name,\n",
    "        \"font.size\": 12,\n",
    "        \"figure.figsize\": (4.5, 4.5 / 1.3),\n",
    "        \"figure.dpi\": 100,\n",
    "        \"ytick.left\": True,\n",
    "        \"xtick.bottom\": True,\n",
    "        \"image.cmap\": \"gist_yarg\",\n",
    "        \"lines.markersize\": 4,\n",
    "    }\n",
    ")"
   ]
  },
  {
   "cell_type": "markdown",
   "id": "416f6413",
   "metadata": {},
   "source": [
    "## Load Prompts"
   ]
  },
  {
   "cell_type": "code",
   "execution_count": null,
   "id": "44be4f09",
   "metadata": {},
   "outputs": [],
   "source": [
    "topic_categories = ['md', 'spectroscopy', 'bio', 'qm', 'sim', 'cheminf', 'genchem', 'thermo', 'stats', 'plot']\n",
    "code_categories = ['code', 'human']\n",
    "lang_categories = ['ch']\n",
    "keys = ['name', 'language', 'context']"
   ]
  },
  {
   "cell_type": "code",
   "execution_count": null,
   "id": "3eb0fe02",
   "metadata": {},
   "outputs": [],
   "source": [
    "data = None\n",
    "valid_files = []\n",
    "def insert_row(r, data):\n",
    "    if data is None:\n",
    "        return {k: [v] for k,v in r.items()}\n",
    "    return  {k: v + [r[k]] for k,v in data.items()}\n",
    "for fn in glob.glob('../data/**/*.yml'):\n",
    "    with open(fn, 'r') as f:\n",
    "        d = yaml.safe_load(f)\n",
    "        # slice        \n",
    "        cat_str = d['categories'] \n",
    "        d = {k: d[k] for k in keys}\n",
    "        # duplicate for categories\n",
    "        tcs = [c for c in topic_categories if c in cat_str]\n",
    "        ccs = [c for c in code_categories if c in cat_str]\n",
    "        lcs = [c for c in lang_categories if c in cat_str]\n",
    "        if len(lcs) == 0:\n",
    "            lcs = ['en']\n",
    "        if len(tcs) > 0:\n",
    "            valid_files.append(fn)\n",
    "        for tc in tcs:\n",
    "            for cc in ccs:\n",
    "                for lc in lcs:\n",
    "                    d.update({'topic': tc, 'type': cc, 'natlang': lc})                    \n",
    "                    data = insert_row(d, data)\n",
    "                    \n",
    "df = pd.DataFrame.from_dict(data)"
   ]
  },
  {
   "cell_type": "code",
   "execution_count": null,
   "id": "b0f59f07",
   "metadata": {},
   "outputs": [],
   "source": [
    "df.groupby('topic').count()\n",
    "len(valid_files)\n",
    "paths = ' '.join(valid_files)\n",
    "temperatures = [0.05, 0.2, 0.5]\n",
    "models = ['incoder/facebook/incoder-1B', 'incoder/facebook/incoder-6B', 'openai/code-cushman-001', 'openai/code-davinci-002']\n",
    "model_names = ['incoder-1B', 'incoder-6B', 'cushman', 'davinci']\n",
    "can_insert = [True, True, False, True]\n",
    "ks = [5, 1, 5, 5]"
   ]
  },
  {
   "cell_type": "markdown",
   "id": "d2a5d960",
   "metadata": {},
   "source": [
    "## Programmatic Prompts"
   ]
  },
  {
   "cell_type": "code",
   "execution_count": null,
   "id": "91b540c3",
   "metadata": {
    "scrolled": true
   },
   "outputs": [],
   "source": [
    "\n",
    "for ins, m, mn, k in zip(can_insert, models, model_names, ks):\n",
    "    for i,t in enumerate(temperatures):\n",
    "        out = f'override_{mn}_{i}.csv'\n",
    "        print(out)\n",
    "        !nlcc-bench $paths $out --n $k --prompt python --temperature $t --engine $m\n",
    "        out = f'bench_{mn}_{i}.csv'\n",
    "        !nlcc-bench $paths $out --n $k --temperature $t --engine $m\n",
    "        if ins:\n",
    "            out = f'insert_bench_{mn}_{i}.csv'\n",
    "            !nlcc-bench $paths $out --n $k --prompt insert --temperature $t --engine $m\n",
    "        out = f'cheader_bench_{mn}_{i}.csv'\n",
    "        insert_text = '-insert' if ins else ''\n",
    "        header = f'header{insert_text}:# MIT License\\n\\n# Copyright (c) 2022 University of Rochester\\n\\n'\n",
    "        !nlcc-bench $paths $out --n $k --prompt \"$header\" --temperature $t --engine $m        \n",
    "        out = f'lheader_bench_{mn}_{i}.csv'\n",
    "        header = f'header{insert_text}:# This is written by an expert Python programmer\\n\\n'\n",
    "        !nlcc-bench $paths $out --n $k --prompt \"$header\" --temperature $t --engine $m\n"
   ]
  },
  {
   "cell_type": "code",
   "execution_count": null,
   "id": "19a4b97e",
   "metadata": {},
   "outputs": [],
   "source": [
    "merged = None\n",
    "for i,t in enumerate(temperatures):\n",
    "    for ins, m, mn in zip(can_insert, models, model_names):\n",
    "        f = f'override_{mn}_{i}.csv'\n",
    "        bf = pd.read_csv(f, delim_whitespace=True)    \n",
    "        bf = pd.merge(bf, df, how='inner', on='name')\n",
    "        bf.context.values[:] = 'none'\n",
    "        if merged is None:\n",
    "            merged = bf\n",
    "        else:\n",
    "            merged = pd.concat((merged, bf))\n",
    "        f = f'bench_{mn}_{i}.csv'\n",
    "        bf = pd.read_csv(f, delim_whitespace=True)    \n",
    "        bf = pd.merge(bf, df, how='inner', on='name')\n",
    "        merged = pd.concat((merged, bf))\n",
    "        if ins:\n",
    "            f = f'insert_bench_{mn}_{i}.csv'\n",
    "            bf = pd.read_csv(f, delim_whitespace=True) \n",
    "            bf = pd.merge(bf, df, how='inner', on='name')\n",
    "            bf.context.values[:] = [v + '-insert' for v in bf.context.values[:]]\n",
    "            merged = pd.concat((merged, bf))\n",
    "        f = f'cheader_bench_{mn}_{i}.csv'\n",
    "        bf = pd.read_csv(f, delim_whitespace=True)    \n",
    "        bf = pd.merge(bf, df, how='inner', on='name')\n",
    "        bf.context.values[:] = [v + '-copyright' for v in bf.context.values[:]]\n",
    "        merged = pd.concat((merged, bf))\n",
    "        f = f'lheader_bench_{mn}_{i}.csv'\n",
    "        bf = pd.read_csv(f, delim_whitespace=True)    \n",
    "        bf = pd.merge(bf, df, how='inner', on='name')\n",
    "        bf.context.values[:] = [v + '-authority' for v in bf.context.values[:]]\n",
    "        merged = pd.concat((merged, bf))\n",
    "def short_context(c):\n",
    "    if c == 'none':\n",
    "        return c\n",
    "    elif 'copyright' in c:\n",
    "        return 'copyright'\n",
    "    elif 'authority' in c:\n",
    "        return 'authority'\n",
    "    elif 'insert' in c:\n",
    "        return 'insert'\n",
    "    return 'custom'\n",
    "\n",
    "def short_model(c):\n",
    "    i = models.index(c)\n",
    "    return model_names[i]\n",
    "    \n",
    "merged = merged.assign(used_context=merged.context.apply(short_context))\n",
    "merged = merged.assign(model=merged.engine.apply(short_model))\n",
    "merged.to_pickle('promp_results.pkl')\n",
    "merged.tail()"
   ]
  },
  {
   "cell_type": "code",
   "execution_count": null,
   "id": "d2b60c6e",
   "metadata": {},
   "outputs": [],
   "source": [
    "merged = pd.read_pickle('promp_results.pkl')"
   ]
  },
  {
   "cell_type": "code",
   "execution_count": null,
   "id": "a1b21207",
   "metadata": {
    "scrolled": true
   },
   "outputs": [],
   "source": [
    "context_order = ['none', 'custom', 'insert', 'copyright', 'authority']\n",
    "\n",
    "for mn in model_names:\n",
    "    plt.figure(figsize=(3,3), dpi=90)\n",
    "    g = sns.FacetGrid(merged[merged.model == mn], col='topic', col_wrap=5, height=1.4, aspect=1.5, hue_order=temperatures)\n",
    "    g.map(sns.pointplot, 'used_context', 'result', 'temperature', \n",
    "          palette='Set2', dodge=True, hue_order=temperatures, order=context_order)\n",
    "    g.add_legend(title='Temperature', loc='upper left', bbox_to_anchor=(0.87, 1))\n",
    "    g.set_axis_labels('', 'Accuracy')\n",
    "    g.map(lambda **kwargs: plt.gca().set_xticklabels(plt.gca().get_xticklabels(), rotation=45))\n",
    "    g.set_titles('{col_name}')\n",
    "    g.savefig(f'{mn}-accuracy.pdf')\n",
    "    g.savefig(f'{mn}-accuracy.png', dpi=300)"
   ]
  },
  {
   "cell_type": "code",
   "execution_count": null,
   "id": "e1c75b9d",
   "metadata": {
    "scrolled": true
   },
   "outputs": [],
   "source": [
    "plt.figure(figsize=(3,3), dpi=90)\n",
    "g = sns.FacetGrid(merged[merged.temperature == 0.2], col='topic', \n",
    "                  col_wrap=5, height=1.4, aspect=1.5, hue_order=model_names)\n",
    "g.map(sns.pointplot, 'used_context', 'result', 'model', hue_order=model_names, order=context_order,\n",
    "      palette='Set2', dodge=True)\n",
    "g.add_legend(title='Model', loc='upper left', bbox_to_anchor=(0.87, 1))\n",
    "g.set_axis_labels('', 'Accuracy')\n",
    "g.map(lambda **kwargs: plt.gca().set_xticklabels(plt.gca().get_xticklabels(), rotation=45))\n",
    "g.set_titles('{col_name}')\n",
    "g.savefig('model-comparison.pdf')\n",
    "g.savefig('model-comparison.png', dpi=300)"
   ]
  },
  {
   "cell_type": "code",
   "execution_count": null,
   "id": "2a1ecc0b",
   "metadata": {},
   "outputs": [],
   "source": [
    "print(df.groupby('topic').count().iloc[:,0].to_latex())"
   ]
  },
  {
   "cell_type": "code",
   "execution_count": null,
   "id": "a3f6140d",
   "metadata": {
    "scrolled": false
   },
   "outputs": [],
   "source": [
    "plt.figure(figsize=(4,4), dpi=90)\n",
    "g = sns.FacetGrid(merged, col='name', col_wrap=5, height=2.5, aspect=2, hue_order=model_names)\n",
    "g.map(sns.pointplot, 'used_context', 'result', 'model',  hue_order=model_names, order=context_order,\n",
    "      palette='Set2', dodge=True)\n",
    "g.add_legend(title='Model')\n",
    "g.set_axis_labels('Context', 'Accuracy')\n",
    "g.set_titles('{col_name}')\n",
    "g.savefig('all.pdf')\n",
    "g.savefig('all.png', dpi=300)"
   ]
  },
  {
   "cell_type": "code",
   "execution_count": null,
   "id": "7097b1bc",
   "metadata": {},
   "outputs": [],
   "source": [
    "print(context_order)"
   ]
  },
  {
   "cell_type": "code",
   "execution_count": null,
   "id": "d5db6c8d",
   "metadata": {},
   "outputs": [],
   "source": [
    "g = sns.catplot(\n",
    "    data=merged, kind=\"bar\", col=\"model\",\n",
    "    x=\"used_context\", y=\"result\", hue=\"temperature\",\n",
    "    palette=\"dark\", alpha=.6, height=2.5, col_wrap=2, order=context_order\n",
    ")\n",
    "g.set_axis_labels('', 'Accuracy')\n",
    "g.map(lambda **kwargs: plt.gca().set_xticklabels(context_order, rotation=45))\n",
    "g.set_titles('{col_name} model')\n",
    "g.savefig('context.pdf')\n",
    "g.savefig('context.png', dpi=300)"
   ]
  },
  {
   "cell_type": "code",
   "execution_count": null,
   "id": "7bc2393b",
   "metadata": {},
   "outputs": [],
   "source": [
    "print(merged[(merged.model == 'incoder-6B') & (merged.used_context == 'copyright')].\\\n",
    "groupby('name').max().groupby('topic').mean()['result'].to_latex())\n",
    "print(merged[(merged.model == 'incoder-6B') & (merged.used_context == 'copyright')].\\\n",
    "groupby('name').max().groupby('topic').mean()['result'].mean())"
   ]
  },
  {
   "cell_type": "code",
   "execution_count": null,
   "id": "d99d3d69",
   "metadata": {},
   "outputs": [],
   "source": [
    "len(merged['name'].unique())"
   ]
  }
 ],
 "metadata": {
  "kernelspec": {
   "display_name": "Python 3 (ipykernel)",
   "language": "python",
   "name": "python3"
  },
  "language_info": {
   "codemirror_mode": {
    "name": "ipython",
    "version": 3
   },
   "file_extension": ".py",
   "mimetype": "text/x-python",
   "name": "python",
   "nbconvert_exporter": "python",
   "pygments_lexer": "ipython3",
   "version": "3.9.13"
  }
 },
 "nbformat": 4,
 "nbformat_minor": 5
}
